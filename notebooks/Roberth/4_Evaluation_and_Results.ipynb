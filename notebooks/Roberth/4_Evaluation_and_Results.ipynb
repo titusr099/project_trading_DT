{
 "cells": [
  {
   "cell_type": "markdown",
   "id": "e04ad345",
   "metadata": {},
   "source": [
    "# **Informe de Modelos de Predicción de Trading**"
   ]
  },
  {
   "cell_type": "markdown",
   "id": "723c54e7",
   "metadata": {},
   "source": [
    "### **Características Seleccionadas** (Con SelecKBest):\n"
   ]
  },
  {
   "cell_type": "markdown",
   "id": "98b38a3d",
   "metadata": {},
   "source": [
    "Las características seleccionadas mediante **SelectKBest** para el modelo de Árbol de Decisión son:\n",
    "- 'Close', 'log_return', 'delta_close', 'sma_14', 'ema_14', 'sma_diff', 'ema_ratio', 'close_minus_sma14', \n",
    "- 'close_minus_ema14', 'macd', 'rsi_14', 'roc_12', 'rolling_std_14', 'bollinger_width', 'volume_log', \n",
    "- 'volume_sma_5', 'obv', 'day_of_week', 'is_month_end', 'trend_sequence'."
   ]
  },
  {
   "cell_type": "markdown",
   "id": "74e8d9c7",
   "metadata": {},
   "source": [
    "---"
   ]
  },
  {
   "cell_type": "markdown",
   "id": "c6529651",
   "metadata": {},
   "source": [
    "## 1. **Modelo: Árbol de Decisión**"
   ]
  },
  {
   "cell_type": "markdown",
   "id": "48f8b931",
   "metadata": {},
   "source": [
    "### 1.1 **Evaluación del Modelo**"
   ]
  },
  {
   "cell_type": "markdown",
   "id": "c4a1c90f",
   "metadata": {},
   "source": [
    "#### **Evaluación sin `GridSearchCV`**:"
   ]
  },
  {
   "cell_type": "markdown",
   "id": "8659c7c6",
   "metadata": {},
   "source": [
    "- **Accuracy**: 0.4839\n",
    "- **Precision**: 0.4118\n",
    "- **Recall**: 0.5385\n",
    "- **F1-score**: 0.4667\n",
    "- **ROC AUC**: 0.4915\n",
    "- **Log Loss**: 18.6032\n",
    "\n",
    "\n",
    "**Reporte Completo:**\n",
    "\n",
    "| **Metric**        | **0**    | **1**    | **Accuracy** |\n",
    "|-------------------|----------|----------|--------------|\n",
    "| **Precision**      | 0.57     | 0.41     | 0.48         |\n",
    "| **Recall**         | 0.44     | 0.54     |              |\n",
    "| **F1-score**       | 0.50     | 0.47     |              |"
   ]
  },
  {
   "cell_type": "markdown",
   "id": "2a6b2440",
   "metadata": {},
   "source": [
    "#### **Evaluación con `GridSearchCV`**:"
   ]
  },
  {
   "cell_type": "markdown",
   "id": "7a8d59b2",
   "metadata": {},
   "source": [
    "\n",
    "- **Mejor combinación de hiperparámetros**:\n",
    "  - `criterion: 'entropy'`\n",
    "  - `max_depth: 12`\n",
    "  - `max_features: 'sqrt'`\n",
    "  - `min_samples_leaf: 7`\n",
    "  - `min_samples_split: 2`\n",
    "\n",
    "- **Accuracy**: 0.5484\n",
    "- **Precision**: 0.4615\n",
    "- **Recall**: 0.4615\n",
    "- **F1-score**: 0.4615\n",
    "- **ROC AUC**: 0.4679\n",
    "- **Log Loss**: 4.1332\n",
    "\n",
    "**Reporte Completo:**\n",
    "\n",
    "| **Metric**        | **0**    | **1**    | **Accuracy** |\n",
    "|-------------------|----------|----------|--------------|\n",
    "| **Precision**      | 0.61     | 0.46     | 0.55         |\n",
    "| **Recall**         | 0.61     | 0.46     |              |\n",
    "| **F1-score**       | 0.61     | 0.46     |              |"
   ]
  },
  {
   "cell_type": "markdown",
   "id": "e684e17f",
   "metadata": {},
   "source": [
    "---"
   ]
  },
  {
   "cell_type": "markdown",
   "id": "60e2cd93",
   "metadata": {},
   "source": [
    "## 2. **Modelo: Random Forest**"
   ]
  },
  {
   "cell_type": "markdown",
   "id": "26806103",
   "metadata": {},
   "source": [
    "### 2.1 Evaluación del modelo"
   ]
  },
  {
   "cell_type": "markdown",
   "id": "b44e587b",
   "metadata": {},
   "source": [
    "#### **Evaluación sin `GridSearchCV`**:"
   ]
  },
  {
   "cell_type": "markdown",
   "id": "69fcff5c",
   "metadata": {},
   "source": [
    "- **Accuracy**: 0.4194\n",
    "- **Precision**: 0.3810\n",
    "- **Recall**: 0.6154\n",
    "- **F1-score**: 0.4706\n",
    "- **ROC AUC**: 0.4936\n",
    "- **Log Loss**: 0.6985\n",
    "\n",
    "**Reporte Completo:**\n",
    "\n",
    "| **Metric**        | **0**    | **1**    | **Accuracy** |\n",
    "|-------------------|----------|----------|--------------|\n",
    "| **Precision**      | 0.50     | 0.38     | 0.42         |\n",
    "| **Recall**         | 0.28     | 0.62     |              |\n",
    "| **F1-score**       | 0.36     | 0.47     |              |"
   ]
  },
  {
   "cell_type": "markdown",
   "id": "3877d0a8",
   "metadata": {},
   "source": [
    "#### **Evaluación con `GridSearchCV`**"
   ]
  },
  {
   "cell_type": "markdown",
   "id": "df91561f",
   "metadata": {},
   "source": [
    "\n",
    "- **Accuracy**: 0.6129\n",
    "- **Precision**: 0.5294\n",
    "- **Recall**: 0.6923\n",
    "- **F1-score**: 0.6000\n",
    "- **ROC AUC**: 0.6880\n",
    "- **Log Loss**: 0.6670\n",
    "\n",
    "**Reporte Completo:**\n",
    "\n",
    "| **Metric**        | **0**    | **1**    | **Accuracy** |\n",
    "|-------------------|----------|----------|--------------|\n",
    "| **Precision**      | 0.71     | 0.53     | 0.61         |\n",
    "| **Recall**         | 0.56     | 0.69     |              |\n",
    "| **F1-score**       | 0.62     | 0.60     |              |\n"
   ]
  },
  {
   "cell_type": "markdown",
   "id": "b85c9a44",
   "metadata": {},
   "source": [
    "### 2.2 **Simulación de Trading (Modelo sin ajuste)**"
   ]
  },
  {
   "cell_type": "markdown",
   "id": "31f9b793",
   "metadata": {},
   "source": [
    "- **Retorno Final**: -132.23\n",
    "- **Sharpe Ratio**: -2.4551\n",
    "- **Max Drawdown**: -0.2236\n",
    "- **Win Rate**: 50.00%\n",
    "- **Número de operaciones**: 18"
   ]
  },
  {
   "cell_type": "markdown",
   "id": "b981ad6a",
   "metadata": {},
   "source": [
    "### 2.3 **Simulación de Trading (Modelo Ajustado)**"
   ]
  },
  {
   "cell_type": "markdown",
   "id": "1fcd34ff",
   "metadata": {},
   "source": [
    "- **Retorno Final**: 175.87\n",
    "- **Sharpe Ratio**: 3.1308\n",
    "- **Max Drawdown**: -0.1550\n",
    "- **Win Rate**: 65.38%\n",
    "- **Número de operaciones**: 26"
   ]
  },
  {
   "cell_type": "markdown",
   "id": "2111ef1f",
   "metadata": {},
   "source": [
    "---"
   ]
  },
  {
   "cell_type": "markdown",
   "id": "7d7e33ef",
   "metadata": {},
   "source": [
    "## 3. **Modelo: AdaBoost**"
   ]
  },
  {
   "cell_type": "markdown",
   "id": "664b74ae",
   "metadata": {},
   "source": [
    "### 3.1 **Evaluación del Modelo**"
   ]
  },
  {
   "cell_type": "markdown",
   "id": "862d9104",
   "metadata": {},
   "source": [
    "#### **Evaluación sin `GridSearchCV`**:"
   ]
  },
  {
   "cell_type": "markdown",
   "id": "95bd7599",
   "metadata": {},
   "source": [
    "- **Accuracy**: 0.5161\n",
    "- **Precision**: 0.4500\n",
    "- **Recall**: 0.6923\n",
    "- **F1-score**: 0.5455\n",
    "- **ROC AUC**: 0.6303\n",
    "- **Log Loss**: 0.6748\n",
    "\n",
    "**Reporte Completo:**\n",
    "\n",
    "| **Metric**        | **0**    | **1**    | **Accuracy** |\n",
    "|-------------------|----------|----------|--------------|\n",
    "| **Precision**      | 0.64     | 0.45     | 0.52         |\n",
    "| **Recall**         | 0.39     | 0.69     |              |\n",
    "| **F1-score**       | 0.48     | 0.55     |              |"
   ]
  },
  {
   "cell_type": "markdown",
   "id": "02cf82ea",
   "metadata": {},
   "source": [
    "#### **Evaluación con `GridSearchCV`**"
   ]
  },
  {
   "cell_type": "markdown",
   "id": "86650665",
   "metadata": {},
   "source": [
    "- **Accuracy**: 0.4516\n",
    "- **Precision**: 0.4167\n",
    "- **Recall**: 0.7692\n",
    "- **F1-score**: 0.5405\n",
    "- **ROC AUC**: 0.5919\n",
    "- **Log Loss**: 0.6953\n",
    "\n",
    "**Reporte Completo:**\n",
    "\n",
    "| **Metric**        | **0**    | **1**    | **Accuracy** |\n",
    "|-------------------|----------|----------|--------------|\n",
    "| **Precision**      | 0.57     | 0.42     | 0.45         |\n",
    "| **Recall**         | 0.22     | 0.77     |              |\n",
    "| **F1-score**       | 0.32     | 0.54     |              |\n"
   ]
  },
  {
   "cell_type": "markdown",
   "id": "2e560cdd",
   "metadata": {},
   "source": [
    "### 3.2 **Simulación de Trading (Modelo sin ajuste)**"
   ]
  },
  {
   "cell_type": "markdown",
   "id": "bee35c84",
   "metadata": {},
   "source": [
    "- **Retorno Final**: 139.19\n",
    "- **Sharpe Ratio**: 2.6224\n",
    "- **Max Drawdown**: -0.0947\n",
    "- **Win Rate**: 54.17%\n",
    "- **Número de operaciones**: 24\n"
   ]
  },
  {
   "cell_type": "markdown",
   "id": "90d44403",
   "metadata": {},
   "source": [
    "### 3.3 **Simulación de Trading (Modelo Ajustado)**"
   ]
  },
  {
   "cell_type": "markdown",
   "id": "707a8c7e",
   "metadata": {},
   "source": [
    "- **Retorno Final**: 27.03\n",
    "- **Sharpe Ratio**: 0.6769\n",
    "- **Max Drawdown**: -0.1606\n",
    "- **Win Rate**: 50.00%\n",
    "- **Número de operaciones**: 18\n"
   ]
  },
  {
   "cell_type": "markdown",
   "id": "56c3e3fb",
   "metadata": {},
   "source": [
    "---"
   ]
  },
  {
   "cell_type": "markdown",
   "id": "5916e910",
   "metadata": {},
   "source": [
    "## 4. **Modelo: Gradient Boosting**"
   ]
  },
  {
   "cell_type": "markdown",
   "id": "7cef554b",
   "metadata": {},
   "source": [
    "### 4.1 **Evaluación del Modelo**"
   ]
  },
  {
   "cell_type": "markdown",
   "id": "43942de4",
   "metadata": {},
   "source": [
    "#### **Evaluación sin `GridSearchCV`**:"
   ]
  },
  {
   "cell_type": "markdown",
   "id": "84cae0db",
   "metadata": {},
   "source": [
    "- **Accuracy**: 0.5161  \n",
    "- **Precision**: 0.4444  \n",
    "- **Recall**: 0.6154  \n",
    "- **F1-score**: 0.5161  \n",
    "- **ROC AUC**: 0.5598  \n",
    "- **Log Loss**: 0.6998  \n",
    "\n",
    "**Reporte Completo:**\n",
    "\n",
    "| **Metric**        | **0**    | **1**    | **Accuracy** |\n",
    "|-------------------|----------|----------|--------------|\n",
    "| **Precision**      | 0.62     | 0.44     | 0.52         |\n",
    "| **Recall**         | 0.44     | 0.62     |              |\n",
    "| **F1-score**       | 0.52     | 0.52     |              |"
   ]
  },
  {
   "cell_type": "markdown",
   "id": "7f2dbdc5",
   "metadata": {},
   "source": [
    "\n",
    "#### **Evaluación con `GridSearchCV`**"
   ]
  },
  {
   "cell_type": "markdown",
   "id": "5678b766",
   "metadata": {},
   "source": [
    "- **Accuracy**: 0.4839  \n",
    "- **Precision**: 0.4286  \n",
    "- **Recall**: 0.6923  \n",
    "- **F1-score**: 0.5294  \n",
    "- **ROC AUC**: 0.6538  \n",
    "- **Log Loss**: 0.6686  \n",
    "\n",
    "**Reporte Completo:**\n",
    "\n",
    "| **Metric**        | **0**    | **1**    | **Accuracy** |\n",
    "|-------------------|----------|----------|--------------|\n",
    "| **Precision**      | 0.60     | 0.43     | 0.48         |\n",
    "| **Recall**         | 0.33     | 0.69     |              |\n",
    "| **F1-score**       | 0.43     | 0.53     |              |"
   ]
  },
  {
   "cell_type": "markdown",
   "id": "7ce5a6b1",
   "metadata": {},
   "source": [
    "\n",
    "### 4.2 **Simulación de Trading (Modelo sin ajuste)**"
   ]
  },
  {
   "cell_type": "markdown",
   "id": "fa3b49c0",
   "metadata": {},
   "source": [
    "- **Retorno Final**: 189.07  \n",
    "- **Sharpe Ratio**: 2.8800  \n",
    "- **Max Drawdown**: -0.1550  \n",
    "- **Win Rate**: 50.00%  \n",
    "- **Número de operaciones**: 30"
   ]
  },
  {
   "cell_type": "markdown",
   "id": "599b7c54",
   "metadata": {},
   "source": [
    "### 4.3 **Simulación de Trading (Modelo Ajustado)**"
   ]
  },
  {
   "cell_type": "markdown",
   "id": "01246769",
   "metadata": {},
   "source": [
    "\n",
    "- **Retorno Final**: -113.29  \n",
    "- **Sharpe Ratio**: -1.5265  \n",
    "- **Max Drawdown**: -0.1545  \n",
    "- **Win Rate**: 51.72%  \n",
    "- **Número de operaciones**: 29"
   ]
  },
  {
   "cell_type": "markdown",
   "id": "c58ee4ee",
   "metadata": {},
   "source": [
    "---"
   ]
  },
  {
   "cell_type": "markdown",
   "id": "c716cbfb",
   "metadata": {},
   "source": [
    "## 5. **Modelo: LightGBM**"
   ]
  },
  {
   "cell_type": "markdown",
   "id": "e9f95fd1",
   "metadata": {},
   "source": [
    "### 5.1 **Evaluación del Modelo**"
   ]
  },
  {
   "cell_type": "markdown",
   "id": "441dc01d",
   "metadata": {},
   "source": [
    "#### **Evaluación sin `GridSearchCV`**:"
   ]
  },
  {
   "cell_type": "markdown",
   "id": "709e35c3",
   "metadata": {},
   "source": [
    "- **Accuracy**: 0.6452  \n",
    "- **Precision**: 0.5625  \n",
    "- **Recall**: 0.6923  \n",
    "- **F1-score**: 0.6207  \n",
    "- **ROC AUC**: 0.7051  \n",
    "- **Log Loss**: 0.6350  \n",
    "\n",
    "**Reporte Completo:**\n",
    "\n",
    "| **Metric**        | **0**    | **1**    | **Accuracy** |\n",
    "|-------------------|----------|----------|--------------|\n",
    "| **Precision**      | 0.73     | 0.56     | 0.65         |\n",
    "| **Recall**         | 0.61     | 0.69     |              |\n",
    "| **F1-score**       | 0.67     | 0.62     |              |"
   ]
  },
  {
   "cell_type": "markdown",
   "id": "bc6121ac",
   "metadata": {},
   "source": [
    "#### **Evaluación con `GridSearchCV`**:"
   ]
  },
  {
   "cell_type": "markdown",
   "id": "ed170240",
   "metadata": {},
   "source": [
    "- **Accuracy**: 0.6129  \n",
    "- **Precision**: 0.5238  \n",
    "- **Recall**: 0.8462  \n",
    "- **F1-score**: 0.6471  \n",
    "- **ROC AUC**: 0.7393  \n",
    "- **Log Loss**: 0.7774  \n",
    "\n",
    "**Reporte Completo:**\n",
    "\n",
    "| **Metric**        | **0**    | **1**    | **Accuracy** |\n",
    "|-------------------|----------|----------|--------------|\n",
    "| **Precision**      | 0.80     | 0.52     | 0.61         |\n",
    "| **Recall**         | 0.44     | 0.85     |              |\n",
    "| **F1-score**       | 0.57     | 0.65     |              |\n"
   ]
  },
  {
   "cell_type": "markdown",
   "id": "86981888",
   "metadata": {},
   "source": [
    "### 5.2 **Simulación de Trading (Modelo sin ajuste)**"
   ]
  },
  {
   "cell_type": "markdown",
   "id": "b2043057",
   "metadata": {},
   "source": [
    "- **Retorno Final**: 352.81  \n",
    "- **Sharpe Ratio**: 4.9717  \n",
    "- **Max Drawdown**: -0.0947  \n",
    "- **Win Rate**: 66.67%  \n",
    "- **Número de operaciones**: 30"
   ]
  },
  {
   "cell_type": "markdown",
   "id": "d904d899",
   "metadata": {},
   "source": [
    "### 5.3 **Simulación de Trading (Modelo Ajustado)**"
   ]
  },
  {
   "cell_type": "markdown",
   "id": "63e78a1a",
   "metadata": {},
   "source": [
    "- **Retorno Final**: 163.92  \n",
    "- **Sharpe Ratio**: 2.5549  \n",
    "- **Max Drawdown**: -0.1599  \n",
    "- **Win Rate**: 61.29%  \n",
    "- **Número de operaciones**: 31"
   ]
  },
  {
   "cell_type": "markdown",
   "id": "f4013cd6",
   "metadata": {},
   "source": [
    "---"
   ]
  },
  {
   "cell_type": "markdown",
   "id": "0b23b12f",
   "metadata": {},
   "source": [
    "## 6. **Modelo: XGBoost**"
   ]
  },
  {
   "cell_type": "markdown",
   "id": "2b02fc8c",
   "metadata": {},
   "source": [
    "### 6.1 **Evaluación del Modelo**"
   ]
  },
  {
   "cell_type": "markdown",
   "id": "582c50fc",
   "metadata": {},
   "source": [
    "#### **Evaluación sin `GridSearchCV`**:"
   ]
  },
  {
   "cell_type": "markdown",
   "id": "7d66c26a",
   "metadata": {},
   "source": [
    "- **Accuracy**: 0.6452  \n",
    "- **Precision**: 0.5625  \n",
    "- **Recall**: 0.6923  \n",
    "- **F1-score**: 0.6207  \n",
    "- **ROC AUC**: 0.6709  \n",
    "- **Log Loss**: 0.6632  \n",
    "\n",
    "**Reporte Completo:**\n",
    "\n",
    "| **Metric**        | **0**    | **1**    | **Accuracy** |\n",
    "|-------------------|----------|----------|--------------|\n",
    "| **Precision**      | 0.73     | 0.56     | 0.65         |\n",
    "| **Recall**         | 0.61     | 0.69     |              |\n",
    "| **F1-score**       | 0.67     | 0.62     |              |"
   ]
  },
  {
   "cell_type": "markdown",
   "id": "ce750397",
   "metadata": {},
   "source": [
    "#### **Evaluación con `GridSearchCV`**:\n"
   ]
  },
  {
   "cell_type": "markdown",
   "id": "3a8c0d04",
   "metadata": {},
   "source": [
    "- **Accuracy**: 0.6452  \n",
    "- **Precision**: 0.5625  \n",
    "- **Recall**: 0.6923  \n",
    "- **F1-score**: 0.6207  \n",
    "- **ROC AUC**: 0.7436  \n",
    "- **Log Loss**: 0.5940  \n",
    "\n",
    "**Reporte Completo:**\n",
    "\n",
    "| **Metric**        | **0**    | **1**    | **Accuracy** |\n",
    "|-------------------|----------|----------|--------------|\n",
    "| **Precision**      | 0.73     | 0.56     | 0.65         |\n",
    "| **Recall**         | 0.61     | 0.69     |              |\n",
    "| **F1-score**       | 0.67     | 0.62     |              |"
   ]
  },
  {
   "cell_type": "markdown",
   "id": "54205201",
   "metadata": {},
   "source": [
    "### 6.2 **Simulación de Trading (Modelo sin ajuste)**"
   ]
  },
  {
   "cell_type": "markdown",
   "id": "13f40c77",
   "metadata": {},
   "source": [
    "- **Retorno Final**: 136.57  \n",
    "- **Sharpe Ratio**: 2.5382  \n",
    "- **Max Drawdown**: -0.1236  \n",
    "- **Win Rate**: 61.54%  \n",
    "- **Número de operaciones**: 26"
   ]
  },
  {
   "cell_type": "markdown",
   "id": "c8c57dd8",
   "metadata": {},
   "source": [
    "### 6.3 **Simulación de Trading (Modelo Ajustado)**"
   ]
  },
  {
   "cell_type": "markdown",
   "id": "ce795f14",
   "metadata": {},
   "source": [
    "\n",
    "- **Retorno Final**: 154.94  \n",
    "- **Sharpe Ratio**: 2.4379  \n",
    "- **Max Drawdown**: -0.1319  \n",
    "- **Win Rate**: 66.67%  \n",
    "- **Número de operaciones**: 30"
   ]
  },
  {
   "cell_type": "markdown",
   "id": "cc4c65e1",
   "metadata": {},
   "source": [
    "---"
   ]
  },
  {
   "cell_type": "markdown",
   "id": "987ede53",
   "metadata": {},
   "source": [
    "## **Comparativa General de Modelos**"
   ]
  },
  {
   "cell_type": "markdown",
   "id": "fc85272d",
   "metadata": {},
   "source": [
    "| Modelo                  | Accuracy | ROC AUC | Precision | Retorno Final | Sharpe Ratio | Win Rate | Nº Ops |\n",
    "|-------------------------|----------|---------|-----------|----------------|---------------|-----------|--------|\n",
    "| Decision Tree    | 0.5484   | 0.4679  | 0.4615    | 11.20          | 0.4447        | 51.61%    | 31     |\n",
    "| Random Forest     | 0.6129   | 0.6880  | 0.5294    | 175.87         | 3.1308        | 65.38%    | 26     |\n",
    "| AdaBoost          | 0.5161   | 0.6303  | 0.4500    | 139.19         | 2.6224        | 54.17%    | 24     |\n",
    "| Gradient Boosting | 0.5161   | 0.5598  | 0.4444    | 189.07        | 2.8800       | 50.00%    | 30     |\n",
    "| **LightGBM**     | **0.6452** | **0.7051** | **0.5625** | **352.81**     | **4.9717**    | **66.67%** | **30** |\n",
    "| XGBoost           | 0.6452   | 0.7436  | 0.5625    | 154.94         | 2.4379        | 66.67%    | 30     |"
   ]
  },
  {
   "cell_type": "markdown",
   "id": "58427943",
   "metadata": {},
   "source": [
    "### Métricas de Evaluación"
   ]
  },
  {
   "cell_type": "markdown",
   "id": "08653487",
   "metadata": {},
   "source": [
    "Estas son las métricas que usamos para evaluar el desempeño de los modelos de trading algorítmico:\n",
    "\n",
    "#### Accuracy\n",
    "**Porcentaje de predicciones correctas**  \n",
    "Cuántas veces el modelo acertó si BTC subía o bajaba.\n",
    "\n",
    "---\n",
    "\n",
    "#### ROC AUC\n",
    "**Capacidad de distinguir entre clases**  \n",
    "Valores cercanos a 1 indican mejor discriminación;  \n",
    "0.5 significa que el modelo predice como el azar.\n",
    "\n",
    "---\n",
    "\n",
    "#### Precision\n",
    "**Qué tan preciso es al predecir subidas**  \n",
    "De todos los días que predijo subida (clase 1), ¿cuántos realmente subieron?\n",
    "\n",
    "---\n",
    "\n",
    "#### Retorno Final\n",
    "**Ganancia simulada en dólares**  \n",
    "Simulación de cuánto habría ganado el modelo si se invertía según sus señales.\n",
    "\n",
    "---\n",
    "\n",
    "#### Sharpe Ratio\n",
    "**Rentabilidad ajustada por riesgo**  \n",
    "Mide cuánto retorno obtiene el modelo por cada unidad de riesgo tomada.\n",
    "\n",
    "---\n",
    "\n",
    "#### Win Rate\n",
    "**Porcentaje de operaciones ganadoras**  \n",
    "Qué porcentaje de las operaciones recomendadas por el modelo resultaron en ganancia.\n",
    "\n",
    "---\n",
    "\n",
    "#### Nº Ops\n",
    "**Cantidad total de operaciones ejecutadas**  \n",
    "Indica si el modelo es más activo (muchas operaciones) o conservador.\n",
    "\n"
   ]
  }
 ],
 "metadata": {
  "kernelspec": {
   "display_name": "venv",
   "language": "python",
   "name": "python3"
  },
  "language_info": {
   "name": "python",
   "version": "3.12.2"
  }
 },
 "nbformat": 4,
 "nbformat_minor": 5
}
