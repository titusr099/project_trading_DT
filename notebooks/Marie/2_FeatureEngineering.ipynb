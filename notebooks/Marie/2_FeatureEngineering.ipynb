{
 "cells": [
  {
   "cell_type": "code",
   "execution_count": 16,
   "id": "340bda9c",
   "metadata": {},
   "outputs": [],
   "source": [
    "import pandas as pd\n",
    "import numpy as np\n",
    "from ta.momentum import RSIIndicator\n",
    "from ta.trend import MACD, SMAIndicator\n",
    "from ta.volatility import BollingerBands"
   ]
  },
  {
   "cell_type": "code",
   "execution_count": 17,
   "id": "fcac3283",
   "metadata": {},
   "outputs": [],
   "source": [
    "# Cargar datos\n",
    "df = pd.read_csv(\"../../data/raw/SPLV_raw.csv\", parse_dates=[\"Date\"])"
   ]
  },
  {
   "cell_type": "code",
   "execution_count": 18,
   "id": "c87711b9",
   "metadata": {},
   "outputs": [],
   "source": [
    "# Variables de calendario\n",
    "df[\"day_of_week\"] = df[\"Date\"].dt.dayofweek\n",
    "df[\"is_month_end\"] = df[\"Date\"].dt.is_month_end.astype(int)\n",
    "df[\"month\"] = df[\"Date\"].dt.month  "
   ]
  },
  {
   "cell_type": "code",
   "execution_count": 19,
   "id": "657f9ca1",
   "metadata": {},
   "outputs": [],
   "source": [
    "# Variables de calendario\n",
    "df[\"day_of_week\"] = df[\"Date\"].dt.dayofweek\n",
    "df[\"is_month_end\"] = df[\"Date\"].dt.is_month_end.astype(int)\n",
    "df[\"month\"] = df[\"Date\"].dt.month  "
   ]
  },
  {
   "cell_type": "code",
   "execution_count": 20,
   "id": "3571c255",
   "metadata": {},
   "outputs": [],
   "source": [
    "# Diferencias de precio y retornos\n",
    "df[\"price_diff\"] = df[\"Close\"] - df[\"Open\"]\n",
    "df[\"pct_diff\"] = df[\"price_diff\"] / df[\"Open\"]\n",
    "df[\"return_daily\"] = df[\"Close\"].pct_change()\n",
    "for lag in range(1, 6):\n",
    "    df[f\"return_lag_{lag}\"] = df[\"return_daily\"].shift(lag)"
   ]
  },
  {
   "cell_type": "code",
   "execution_count": 21,
   "id": "44f81d7b",
   "metadata": {},
   "outputs": [],
   "source": [
    "# Medias móviles y desviación\n",
    "df[\"sma_5\"] = SMAIndicator(close=df[\"Close\"], window=5).sma_indicator().shift(1)\n",
    "df[\"sma_10\"] = SMAIndicator(close=df[\"Close\"], window=10).sma_indicator().shift(1)  \n",
    "df[\"rolling_std_return_5\"] = df[\"return_daily\"].rolling(window=5).std().shift(1)"
   ]
  },
  {
   "cell_type": "code",
   "execution_count": 22,
   "id": "f8983242",
   "metadata": {},
   "outputs": [],
   "source": [
    "# Indicadores técnicos\n",
    "df[\"RSI_5\"] = RSIIndicator(close=df[\"Close\"], window=5).rsi().shift(1)\n",
    "\n",
    "macd = MACD(close=df[\"Close\"])\n",
    "df[\"MACD\"] = macd.macd().shift(1)\n",
    "df[\"MACD_signal\"] = macd.macd_signal().shift(1)\n",
    "\n",
    "bb = BollingerBands(close=df[\"Close\"], window=5, window_dev=2)\n",
    "df[\"bb_middle\"] = bb.bollinger_mavg().shift(1)\n",
    "df[\"bb_upper\"] = bb.bollinger_hband().shift(1)\n",
    "df[\"bb_lower\"] = bb.bollinger_lband().shift(1)"
   ]
  },
  {
   "cell_type": "code",
   "execution_count": 23,
   "id": "a02e6a2a",
   "metadata": {},
   "outputs": [],
   "source": [
    "# Bandera de volumen alto (outlier)\n",
    "df[\"rolling_mean_vol\"] = df[\"Volume\"].rolling(window=5).mean().shift(1)\n",
    "df[\"rolling_std_vol\"] = df[\"Volume\"].rolling(window=5).std().shift(1)\n",
    "df[\"volume_outlier\"] = (\n",
    "    df[\"Volume\"] > df[\"rolling_mean_vol\"] + 2 * df[\"rolling_std_vol\"]\n",
    ").astype(int)"
   ]
  },
  {
   "cell_type": "code",
   "execution_count": 24,
   "id": "c6c3ddee",
   "metadata": {},
   "outputs": [],
   "source": [
    "# Flags binarias técnicas\n",
    "sma50 = SMAIndicator(close=df[\"Close\"], window=50).sma_indicator()\n",
    "df[\"price_above_SMA50\"] = (df[\"Close\"] > sma50).shift(1).fillna(0).astype(int)\n",
    "df[\"RSI_overbought\"] = (df[\"RSI_5\"] > 70).astype(int)\n",
    "df[\"MACD_above_signal\"] = (df[\"MACD\"] > df[\"MACD_signal\"]).astype(int)"
   ]
  },
  {
   "cell_type": "code",
   "execution_count": 25,
   "id": "cd46ff63",
   "metadata": {},
   "outputs": [],
   "source": [
    "# Nuevas señales\n",
    "df[\"return_3d\"] = df[\"Close\"].pct_change(3).shift(1)\n",
    "df[\"vol_month\"] = df[\"Close\"].rolling(21).std().shift(1)\n",
    "df[\"price_vs_sma10\"] = (df[\"Close\"] - df[\"sma_10\"]) / df[\"sma_10\"]"
   ]
  },
  {
   "cell_type": "code",
   "execution_count": 26,
   "id": "21e7f81e",
   "metadata": {},
   "outputs": [],
   "source": [
    "# Momentum y señales adicionales\n",
    "df[\"momentum_3d\"] = df[\"Close\"] - df[\"Close\"].shift(3)\n",
    "df[\"vol_change\"] = (df[\"Volume\"] - df[\"rolling_mean_vol\"]) / df[\"rolling_mean_vol\"]\n",
    "df[\"sma_cross_up\"] = (\n",
    "    (df[\"sma_5\"] > df[\"sma_10\"]) & (df[\"sma_5\"].shift(1) <= df[\"sma_10\"].shift(1))\n",
    ").astype(int)"
   ]
  },
  {
   "cell_type": "code",
   "execution_count": 27,
   "id": "24ddc0d6",
   "metadata": {},
   "outputs": [],
   "source": [
    "df[\"volatility_ratio\"] = df[\"rolling_std_return_5\"] / (df[\"vol_month\"] + 1e-6)\n",
    "df[\"gap_up\"] = (df[\"Open\"] - df[\"Close\"].shift(1)) / (df[\"Close\"].shift(1) + 1e-6)\n",
    "df[\"lower_shadow\"] = (df[\"Close\"] - df[\"Low\"]) / ((df[\"High\"] - df[\"Low\"]) + 1e-6)"
   ]
  },
  {
   "cell_type": "code",
   "execution_count": 28,
   "id": "d3c6a255",
   "metadata": {},
   "outputs": [],
   "source": [
    "# Target: sube el cierre de mañana respecto a hoy\n",
    "df[\"target\"] = (df[\"Close\"].shift(-1) > df[\"Close\"]).astype(int)"
   ]
  },
  {
   "cell_type": "code",
   "execution_count": 29,
   "id": "48572799",
   "metadata": {},
   "outputs": [
    {
     "name": "stdout",
     "output_type": "stream",
     "text": [
      "Distribución del target:\n",
      "target\n",
      "1    0.531105\n",
      "0    0.468895\n",
      "Name: proportion, dtype: float64\n"
     ]
    }
   ],
   "source": [
    "# Verificar desbalance\n",
    "print(\"Distribución del target:\")\n",
    "print(df[\"target\"].value_counts(normalize=True))"
   ]
  },
  {
   "cell_type": "code",
   "execution_count": null,
   "id": "492ab347",
   "metadata": {},
   "outputs": [
    {
     "name": "stdout",
     "output_type": "stream",
     "text": [
      "✅ Features listas y guardadas en data/processed/SPLV_clean.csv\n"
     ]
    }
   ],
   "source": [
    "# Selección de columnas finales (actualizadas)\n",
    "feature_cols = [\n",
    "    \"day_of_week\", \"month\", \"is_month_end\",\n",
    "    \"price_diff\", \"pct_diff\", \"return_daily\",\n",
    "    \"return_lag_1\", \"return_lag_2\", \"return_lag_3\", \"return_lag_4\", \"return_lag_5\",\n",
    "    \"sma_5\", \"sma_10\", \"rolling_std_return_5\",\n",
    "    \"RSI_5\", \"MACD\", \"MACD_signal\",\n",
    "    \"bb_middle\", \"bb_upper\", \"bb_lower\",\n",
    "    \"volume_outlier\", \"price_above_SMA50\",\n",
    "    \"RSI_overbought\", \"MACD_above_signal\",\n",
    "    \"return_3d\", \"vol_month\", \"price_vs_sma10\", \n",
    "    \"momentum_3d\", \"vol_change\", \"sma_cross_up\", \n",
    "    \"volatility_ratio\", \"gap_up\", \"lower_shadow\",\n",
    "    \"target\"\n",
    "]\n",
    "\n",
    "# %%\n",
    "# Limpiar y exportar\n",
    "df_features = df[[\"Date\", \"Open\", \"High\", \"Low\", \"Close\"] + feature_cols].dropna().copy()\n",
    "df_features.to_csv(\"../../data/processed/SPLV_clean.csv\", index=False)\n",
    "print(\"✅ Features listas y guardadas en data/processed/SPLV_clean.csv\")\n"
   ]
  }
 ],
 "metadata": {
  "kernelspec": {
   "display_name": "base",
   "language": "python",
   "name": "python3"
  },
  "language_info": {
   "codemirror_mode": {
    "name": "ipython",
    "version": 3
   },
   "file_extension": ".py",
   "mimetype": "text/x-python",
   "name": "python",
   "nbconvert_exporter": "python",
   "pygments_lexer": "ipython3",
   "version": "3.12.2"
  }
 },
 "nbformat": 4,
 "nbformat_minor": 5
}
