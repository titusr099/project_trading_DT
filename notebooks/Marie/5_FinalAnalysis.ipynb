{
 "cells": [
  {
   "cell_type": "code",
   "execution_count": 16,
   "id": "62967179",
   "metadata": {},
   "outputs": [],
   "source": [
    "import os\n",
    "import joblib\n",
    "import numpy as np\n",
    "import pandas as pd\n",
    "from sklearn.metrics import accuracy_score, precision_score, recall_score, f1_score"
   ]
  },
  {
   "cell_type": "code",
   "execution_count": null,
   "id": "8db019f7",
   "metadata": {},
   "outputs": [],
   "source": [
    "# %%\n",
    "df = pd.read_csv(\"../../data/processed/SPLV_clean.csv\", parse_dates=[\"Date\"])\n",
    "test_df = df[df[\"Date\"] >= \"2025-03-01\"].copy()\n",
    "X_test = test_df.drop(columns=[\"target\", \"Close\", \"Open\", \"High\", \"Low\", \"Date\"])\n",
    "y_test = test_df[\"target\"]\n",
    "\n",
    "model_names = [\"DecisionTree\", \"RandomForest\", \"AdaBoost\", \"GradientBoosting\", \"LightGBM\", \"XGBoost\"]\n",
    "models = {}\n",
    "for name in model_names:\n",
    "    path = f\"../../models/SPLV_{name}.pkl\"\n",
    "    if os.path.exists(path):\n",
    "        models[name] = joblib.load(path)"
   ]
  },
  {
   "cell_type": "code",
   "execution_count": 18,
   "id": "8e646c4b",
   "metadata": {},
   "outputs": [
    {
     "name": "stdout",
     "output_type": "stream",
     "text": [
      "💹 Resultados de la simulación con todos los modelos:\n",
      "              Model  Trades  Wins  Losses  Profit ($)  Final Capital ($)\n",
      "1      RandomForest       6     4       2       15.75            1015.75\n",
      "5           XGBoost       4     3       1       14.78            1014.78\n",
      "3  GradientBoosting       2     2       0        3.27            1003.27\n",
      "2          AdaBoost       0     0       0        0.00            1000.00\n",
      "4          LightGBM      14     6       8      -10.12             989.88\n",
      "0      DecisionTree      11     6       4      -12.45             987.55\n"
     ]
    }
   ],
   "source": [
    "threshold = 0.55\n",
    "initial_capital = 1000\n",
    "investment_fraction = 0.25\n",
    "investment_per_trade = initial_capital * investment_fraction\n",
    "\n",
    "results = []\n",
    "for model_name, model in models.items():\n",
    "    if not hasattr(model, \"predict_proba\"):\n",
    "        continue\n",
    "    y_proba = model.predict_proba(X_test)[:, 1]\n",
    "    y_pred = (y_proba > threshold).astype(int)\n",
    "    temp_df = test_df.copy()\n",
    "    temp_df[\"pred\"] = y_pred\n",
    "    temp_df[\"next_close\"] = temp_df[\"Close\"].shift(-1)\n",
    "    temp_df[\"return_pct\"] = (temp_df[\"next_close\"] - temp_df[\"Close\"]) / temp_df[\"Close\"]\n",
    "    trade_df = temp_df[temp_df[\"pred\"] == 1].copy()\n",
    "    trade_df[\"profit\"] = investment_per_trade * trade_df[\"return_pct\"]\n",
    "    total_profit = trade_df[\"profit\"].sum()\n",
    "    final_capital = initial_capital + total_profit\n",
    "    num_trades = len(trade_df)\n",
    "    win_trades = (trade_df[\"profit\"] > 0).sum()\n",
    "    loss_trades = (trade_df[\"profit\"] < 0).sum()\n",
    "    results.append({\n",
    "        \"Model\": model_name,\n",
    "        \"Trades\": num_trades,\n",
    "        \"Wins\": win_trades,\n",
    "        \"Losses\": loss_trades,\n",
    "        \"Profit ($)\": round(total_profit, 2),\n",
    "        \"Final Capital ($)\": round(final_capital, 2)\n",
    "    })\n",
    "\n",
    "df_results = pd.DataFrame(results).sort_values(by=\"Final Capital ($)\", ascending=False)\n",
    "print(\"💹 Resultados de la simulación con todos los modelos:\")\n",
    "print(df_results)"
   ]
  },
  {
   "cell_type": "code",
   "execution_count": 19,
   "id": "c9f8e325",
   "metadata": {},
   "outputs": [
    {
     "name": "stdout",
     "output_type": "stream",
     "text": [
      "\n",
      "📈 Comparación de thresholds en XGBoost:\n",
      " Threshold  Accuracy  Precision  Recall  F1-score  Trades  Wins  Losses  Profit ($)  Final Capital\n",
      "      0.55    0.6786     0.7500  0.2727    0.4000       4     3       1       14.78        1014.78\n",
      "      0.60    0.6786     0.7500  0.2727    0.4000       4     3       1       14.78        1014.78\n",
      "      0.50    0.6429     0.5714  0.3636    0.4444       7     4       3        8.57        1008.57\n",
      "      0.40    0.5357     0.4444  0.7273    0.5517      18     8       9       -3.68         996.32\n",
      "      0.45    0.5714     0.4615  0.5455    0.5000      13     6       7       -5.32         994.68\n",
      "      0.35    0.4643     0.4000  0.7273    0.5161      20     8      11       -7.00         993.00\n",
      "\n",
      "📈 Comparación de thresholds en GradientBoosting:\n",
      " Threshold  Accuracy  Precision  Recall  F1-score  Trades  Wins  Losses  Profit ($)  Final Capital\n",
      "      0.50    0.6786     1.0000  0.1818    0.3077       2     2       0        3.27        1003.27\n",
      "      0.55    0.6786     1.0000  0.1818    0.3077       2     2       0        3.27        1003.27\n",
      "      0.60    0.6786     1.0000  0.1818    0.3077       2     2       0        3.27        1003.27\n",
      "      0.45    0.6429     0.6667  0.1818    0.2857       3     2       1        2.56        1002.56\n",
      "      0.40    0.5714     0.4000  0.1818    0.2500       5     2       3       -4.55         995.45\n",
      "      0.35    0.5000     0.3333  0.2727    0.3000       9     3       6      -23.64         976.36\n",
      "\n",
      "📈 Comparación de thresholds en RandomForest:\n",
      " Threshold  Accuracy  Precision  Recall  F1-score  Trades  Wins  Losses  Profit ($)  Final Capital\n",
      "      0.55    0.6786     0.6667  0.3636    0.4706       6     4       2       15.75        1015.75\n",
      "      0.50    0.6429     0.5455  0.5455    0.5455      11     6       4       14.69        1014.69\n",
      "      0.45    0.5714     0.4706  0.7273    0.5714      17     8       8       11.69        1011.69\n",
      "      0.40    0.5000     0.4286  0.8182    0.5625      21     9      11        5.99        1005.99\n",
      "      0.60    0.6429     0.6667  0.1818    0.2857       3     2       1        3.67        1003.67\n",
      "      0.35    0.4286     0.4000  0.9091    0.5556      25    10      14       -8.83         991.17\n"
     ]
    }
   ],
   "source": [
    "thresholds = np.arange(0.35, 0.61, 0.05)\n",
    "for model_key in [\"XGBoost\", \"GradientBoosting\", \"RandomForest\"]:\n",
    "    model = models[model_key]\n",
    "    y_proba = model.predict_proba(X_test)[:, 1]\n",
    "    results = []\n",
    "    for thresh in thresholds:\n",
    "        y_pred = (y_proba > thresh).astype(int)\n",
    "        precision = precision_score(y_test, y_pred, zero_division=0)\n",
    "        recall = recall_score(y_test, y_pred, zero_division=0)\n",
    "        f1 = f1_score(y_test, y_pred, zero_division=0)\n",
    "        acc = accuracy_score(y_test, y_pred)\n",
    "        temp_df = test_df.copy()\n",
    "        temp_df[\"pred\"] = y_pred\n",
    "        temp_df[\"next_close\"] = temp_df[\"Close\"].shift(-1)\n",
    "        temp_df[\"return_pct\"] = (temp_df[\"next_close\"] - temp_df[\"Close\"]) / temp_df[\"Close\"]\n",
    "        trade_df = temp_df[temp_df[\"pred\"] == 1].copy()\n",
    "        trade_df[\"profit\"] = investment_per_trade * trade_df[\"return_pct\"]\n",
    "        total_profit = trade_df[\"profit\"].sum()\n",
    "        num_trades = len(trade_df)\n",
    "        wins = (trade_df[\"profit\"] > 0).sum()\n",
    "        losses = (trade_df[\"profit\"] < 0).sum()\n",
    "        results.append({\n",
    "            \"Threshold\": round(thresh, 2),\n",
    "            \"Accuracy\": round(acc, 4),\n",
    "            \"Precision\": round(precision, 4),\n",
    "            \"Recall\": round(recall, 4),\n",
    "            \"F1-score\": round(f1, 4),\n",
    "            \"Trades\": num_trades,\n",
    "            \"Wins\": wins,\n",
    "            \"Losses\": losses,\n",
    "            \"Profit ($)\": round(total_profit, 2),\n",
    "            \"Final Capital\": round(initial_capital + total_profit, 2)\n",
    "        })\n",
    "    df_thresh_results = pd.DataFrame(results).sort_values(by=\"Profit ($)\", ascending=False)\n",
    "    print(f\"\\n📈 Comparación de thresholds en {model_key}:\")\n",
    "    print(df_thresh_results.to_string(index=False))"
   ]
  }
 ],
 "metadata": {
  "kernelspec": {
   "display_name": "base",
   "language": "python",
   "name": "python3"
  },
  "language_info": {
   "codemirror_mode": {
    "name": "ipython",
    "version": 3
   },
   "file_extension": ".py",
   "mimetype": "text/x-python",
   "name": "python",
   "nbconvert_exporter": "python",
   "pygments_lexer": "ipython3",
   "version": "3.12.2"
  }
 },
 "nbformat": 4,
 "nbformat_minor": 5
}
