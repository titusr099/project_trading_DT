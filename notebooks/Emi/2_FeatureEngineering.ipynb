{
 "cells": [
  {
   "cell_type": "code",
   "execution_count": 15,
   "metadata": {},
   "outputs": [],
   "source": [
    "#Importaciones\n",
    "import pandas as pd\n",
    "import numpy as np\n",
    "import os\n",
    "from datetime import datetime\n",
    "from ta.momentum import RSIIndicator\n",
    "from ta.trend import MACD, SMAIndicator\n",
    "from ta.volatility import BollingerBands"
   ]
  },
  {
   "cell_type": "code",
   "execution_count": 16,
   "metadata": {},
   "outputs": [],
   "source": [
    "# Cargar datos\n",
    "csv_path = \"../../data/raw/JNJ.csv\"\n",
    "df = pd.read_csv(csv_path, parse_dates=[\"Date\"])"
   ]
  },
  {
   "cell_type": "code",
   "execution_count": 17,
   "metadata": {},
   "outputs": [],
   "source": [
    "# 3) Log-transform de Volume\n",
    "df[\"log_vol\"] = np.log1p(df[\"Volume\"])\n",
    "\n",
    "df = df.drop(columns=['Volume'])"
   ]
  },
  {
   "cell_type": "code",
   "execution_count": 18,
   "metadata": {},
   "outputs": [],
   "source": [
    "# 4) Features de calendario\n",
    "df['year'] = df['Date'].dt.year\n",
    "df[\"month\"] = df[\"Date\"].dt.month\n",
    "df['day'] = df['Date'].dt.day\n",
    "df[\"day_of_week\"] = df[\"Date\"].dt.dayofweek  \n",
    "df[\"is_month_end\"] = df[\"Date\"].dt.is_month_end.astype(int)"
   ]
  },
  {
   "cell_type": "code",
   "execution_count": 19,
   "metadata": {},
   "outputs": [],
   "source": [
    "# 5) Price differences y returns\n",
    "df[\"price_diff\"] = df[\"Close\"].shift(1) - df[\"Open\"].shift(1)\n",
    "df[\"pct_diff\"] = df[\"price_diff\"] / df[\"Open\"].shift(1)\n",
    "df[\"return_daily\"] = df[\"Close\"].pct_change().shift(1)\n",
    "df[\"return_lag_1\"] = df[\"return_daily\"].shift(1)\n",
    "df[\"return_lag_2\"] = df[\"return_daily\"].shift(2)\n",
    "df[\"return_lag_3\"] = df[\"return_daily\"].shift(3)\n",
    "df[\"return_lag_4\"] = df[\"return_daily\"].shift(4)\n",
    "df[\"return_lag_5\"] = df[\"return_daily\"].shift(5)\n"
   ]
  },
  {
   "cell_type": "code",
   "execution_count": 20,
   "metadata": {},
   "outputs": [],
   "source": [
    "# 6) Rolling statistics\n",
    "df[\"sma_5\"] = SMAIndicator(close=df[\"Close\"], window=5).sma_indicator().shift(1)\n",
    "df[\"rolling_std_return_5\"] = df[\"return_daily\"].rolling(window=5).std().shift(1)"
   ]
  },
  {
   "cell_type": "code",
   "execution_count": 21,
   "metadata": {},
   "outputs": [],
   "source": [
    "# 7) Technical indicators\n",
    "# RSI(5)\n",
    "df[\"RSI_5\"] = RSIIndicator(close=df[\"Close\"], window=5).rsi().shift(1)"
   ]
  },
  {
   "cell_type": "code",
   "execution_count": 22,
   "metadata": {},
   "outputs": [],
   "source": [
    "# MACD & signal\n",
    "macd = MACD(close=df[\"Close\"])\n",
    "df[\"MACD\"] = macd.macd().shift(1)\n",
    "df[\"MACD_signal\"] = macd.macd_signal().shift(1)"
   ]
  },
  {
   "cell_type": "code",
   "execution_count": 23,
   "metadata": {},
   "outputs": [],
   "source": [
    "# Bollinger Bands (20, 2)\n",
    "bb = BollingerBands(close=df[\"Close\"], window=5, window_dev=2)\n",
    "df[\"bb_middle\"] = bb.bollinger_mavg().shift(1)\n",
    "df[\"bb_upper\"] = bb.bollinger_hband().shift(1)\n",
    "df[\"bb_lower\"] = bb.bollinger_lband().shift(1)"
   ]
  },
  {
   "cell_type": "code",
   "execution_count": 24,
   "metadata": {},
   "outputs": [],
   "source": [
    "# 8) Flags y binary features\n",
    "# Calcular la media y desviación estándar con una ventana deslizante y luego hacer un shift(1) para no usar datos de hoy\n",
    "df[\"rolling_mean_vol\"] = df[\"log_vol\"].rolling(window=5).mean().shift(1)  # Media de los últimos 5 días, desplazada\n",
    "df[\"rolling_std_vol\"] = df[\"log_vol\"].rolling(window=5).std().shift(1)    # Desviación estándar de los últimos 5 días, desplazada\n",
    "\n",
    "# Crear la variable volume_spike\n",
    "df[\"volume_spike\"] = (\n",
    "    df[\"log_vol\"] > df[\"rolling_mean_vol\"] + 2 * df[\"rolling_std_vol\"]\n",
    ").astype(int)\n",
    "\n",
    "# Create SMA50 indicator\n",
    "sma_indicator = SMAIndicator(close=df[\"Close\"], window=50)\n",
    "df[\"price_above_SMA50\"] = (df[\"Close\"] > sma_indicator.sma_indicator()).shift(1).fillna(0).astype(int)\n",
    "\n",
    "# RSI overbought condition\n",
    "df[\"RSI_overbought\"] = (df[\"RSI_5\"] > 70).shift(1).fillna(0).astype(int)\n",
    "\n",
    "# MACD above signal line\n",
    "df[\"MACD_above_signal\"] = (df[\"MACD\"] > df[\"MACD_signal\"]).shift(1).fillna(0).astype(int)"
   ]
  },
  {
   "cell_type": "code",
   "execution_count": 25,
   "metadata": {},
   "outputs": [],
   "source": [
    "# 9) Limpiar filas con NaN generadas por cálculos\n",
    "feature_cols = [\n",
    "    \"log_vol\", \"day_of_week\", \"is_month_end\", \"month\",\n",
    "    \"price_diff\", \"pct_diff\", \"return_daily\", \"return_lag_1\",\"return_lag_2\",\"return_lag_3\",\"return_lag_4\",\"return_lag_5\",\n",
    "    \"sma_5\", \"rolling_std_return_5\",\n",
    "    \"RSI_5\", \"MACD\", \"MACD_signal\",\n",
    "    \"bb_middle\", \"bb_upper\", \"bb_lower\",\n",
    "    \"volume_spike\", \"price_above_SMA50\", \"RSI_overbought\", \"MACD_above_signal\"\n",
    "]\n",
    "df_features = df.dropna(subset=feature_cols).copy()"
   ]
  },
  {
   "cell_type": "code",
   "execution_count": 26,
   "metadata": {},
   "outputs": [],
   "source": [
    "# Definir el target: Predecir si el precio de JNJ sube o baja (1: sube, 0: baja)\n",
    "#Predecir hoy con ayer\n",
    "#df_features[\"target\"] = (df_features[\"Close\"] > df_features[\"Close\"].shift(1)).astype(int)\n",
    "\n",
    "# Predecir mañana con hoy\n",
    "df_features[\"target\"] = (df_features[\"Close\"].shift(-1) > df_features[\"Close\"]).astype(int)\n",
    "\n",
    "# (1 si Close > Open, 0 si Close <= Open)\n",
    "#df_features['target'] = np.where(df_features['Close'] > df_features['Open'], 1, 0)"
   ]
  },
  {
   "cell_type": "code",
   "execution_count": 27,
   "metadata": {},
   "outputs": [
    {
     "name": "stdout",
     "output_type": "stream",
     "text": [
      "\n",
      "Información del DataFrame:\n",
      "<class 'pandas.core.frame.DataFrame'>\n",
      "Index: 3559 entries, 34 to 3592\n",
      "Data columns (total 34 columns):\n",
      " #   Column                Non-Null Count  Dtype         \n",
      "---  ------                --------------  -----         \n",
      " 0   Date                  3559 non-null   datetime64[ns]\n",
      " 1   Close                 3559 non-null   float64       \n",
      " 2   High                  3559 non-null   float64       \n",
      " 3   Low                   3559 non-null   float64       \n",
      " 4   Open                  3559 non-null   float64       \n",
      " 5   log_vol               3559 non-null   float64       \n",
      " 6   year                  3559 non-null   int32         \n",
      " 7   month                 3559 non-null   int32         \n",
      " 8   day                   3559 non-null   int32         \n",
      " 9   day_of_week           3559 non-null   int32         \n",
      " 10  is_month_end          3559 non-null   int64         \n",
      " 11  price_diff            3559 non-null   float64       \n",
      " 12  pct_diff              3559 non-null   float64       \n",
      " 13  return_daily          3559 non-null   float64       \n",
      " 14  return_lag_1          3559 non-null   float64       \n",
      " 15  return_lag_2          3559 non-null   float64       \n",
      " 16  return_lag_3          3559 non-null   float64       \n",
      " 17  return_lag_4          3559 non-null   float64       \n",
      " 18  return_lag_5          3559 non-null   float64       \n",
      " 19  sma_5                 3559 non-null   float64       \n",
      " 20  rolling_std_return_5  3559 non-null   float64       \n",
      " 21  RSI_5                 3559 non-null   float64       \n",
      " 22  MACD                  3559 non-null   float64       \n",
      " 23  MACD_signal           3559 non-null   float64       \n",
      " 24  bb_middle             3559 non-null   float64       \n",
      " 25  bb_upper              3559 non-null   float64       \n",
      " 26  bb_lower              3559 non-null   float64       \n",
      " 27  rolling_mean_vol      3559 non-null   float64       \n",
      " 28  rolling_std_vol       3559 non-null   float64       \n",
      " 29  volume_spike          3559 non-null   int64         \n",
      " 30  price_above_SMA50     3559 non-null   int64         \n",
      " 31  RSI_overbought        3559 non-null   int64         \n",
      " 32  MACD_above_signal     3559 non-null   int64         \n",
      " 33  target                3559 non-null   int64         \n",
      "dtypes: datetime64[ns](1), float64(23), int32(4), int64(6)\n",
      "memory usage: 917.6 KB\n",
      "None\n"
     ]
    }
   ],
   "source": [
    "# Información general del DataFrame\n",
    "print(\"\\nInformación del DataFrame:\")\n",
    "print(df_features.info())"
   ]
  },
  {
   "cell_type": "code",
   "execution_count": 28,
   "metadata": {},
   "outputs": [
    {
     "name": "stdout",
     "output_type": "stream",
     "text": [
      "Features saved to ../../data/processed/JNJ_clean.csv\n"
     ]
    }
   ],
   "source": [
    "# 10) Guardar CSV con todas las features\n",
    "output_path = \"../../data/processed/JNJ_clean.csv\"\n",
    "df_features.to_csv(output_path, index=False)\n",
    "print(f\"Features saved to {output_path}\")"
   ]
  }
 ],
 "metadata": {
  "kernelspec": {
   "display_name": "bolsa_ml",
   "language": "python",
   "name": "python3"
  },
  "language_info": {
   "codemirror_mode": {
    "name": "ipython",
    "version": 3
   },
   "file_extension": ".py",
   "mimetype": "text/x-python",
   "name": "python",
   "nbconvert_exporter": "python",
   "pygments_lexer": "ipython3",
   "version": "3.10.13"
  }
 },
 "nbformat": 4,
 "nbformat_minor": 2
}
