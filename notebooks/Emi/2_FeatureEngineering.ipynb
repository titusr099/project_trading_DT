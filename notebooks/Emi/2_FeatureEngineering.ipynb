{
 "cells": [
  {
   "cell_type": "code",
   "execution_count": 71,
   "metadata": {},
   "outputs": [],
   "source": [
    "#Importaciones\n",
    "import pandas as pd\n",
    "import numpy as np\n",
    "import os\n",
    "from datetime import datetime\n",
    "from ta.momentum import RSIIndicator\n",
    "from ta.trend import MACD, SMAIndicator\n",
    "from ta.volatility import BollingerBands"
   ]
  },
  {
   "cell_type": "code",
   "execution_count": 72,
   "metadata": {},
   "outputs": [],
   "source": [
    "# Cargar datos\n",
    "csv_path = \"../../data/raw/JNJ.csv\"\n",
    "df = pd.read_csv(csv_path, parse_dates=[\"Date\"])"
   ]
  },
  {
   "cell_type": "code",
   "execution_count": 73,
   "metadata": {},
   "outputs": [],
   "source": [
    "# 3) Log-transform de Volume\n",
    "df[\"log_vol\"] = np.log1p(df[\"Volume\"])\n",
    "\n",
    "df = df.drop(columns=['Volume'])"
   ]
  },
  {
   "cell_type": "code",
   "execution_count": 74,
   "metadata": {},
   "outputs": [],
   "source": [
    "# 4) Features de calendario\n",
    "df['year'] = df['Date'].dt.year\n",
    "df[\"month\"] = df[\"Date\"].dt.month\n",
    "df['day'] = df['Date'].dt.day\n",
    "df[\"day_of_week\"] = df[\"Date\"].dt.dayofweek  \n",
    "df[\"is_month_end\"] = df[\"Date\"].dt.is_month_end.astype(int)"
   ]
  },
  {
   "cell_type": "code",
   "execution_count": 75,
   "metadata": {},
   "outputs": [],
   "source": [
    "# 5) Price differences y returns\n",
    "df[\"price_diff\"] = df[\"Close\"] - df[\"Open\"]\n",
    "df[\"pct_diff\"] = df[\"price_diff\"] / df[\"Open\"]\n",
    "df[\"return_daily\"] = df[\"Close\"].pct_change()\n",
    "df[\"return_lag_1\"] = df[\"return_daily\"].shift(1)"
   ]
  },
  {
   "cell_type": "code",
   "execution_count": 76,
   "metadata": {},
   "outputs": [],
   "source": [
    "# 6) Rolling statistics\n",
    "df[\"sma_5\"] = SMAIndicator(close=df[\"Close\"], window=5).sma_indicator()\n",
    "df[\"rolling_std_return_5\"] = df[\"return_daily\"].rolling(window=5).std()"
   ]
  },
  {
   "cell_type": "code",
   "execution_count": 77,
   "metadata": {},
   "outputs": [],
   "source": [
    "# 7) Technical indicators\n",
    "# RSI(5)\n",
    "df[\"RSI_5\"] = RSIIndicator(close=df[\"Close\"], window=5).rsi()"
   ]
  },
  {
   "cell_type": "code",
   "execution_count": 78,
   "metadata": {},
   "outputs": [],
   "source": [
    "# MACD & signal\n",
    "macd = MACD(close=df[\"Close\"])\n",
    "df[\"MACD\"] = macd.macd()\n",
    "df[\"MACD_signal\"] = macd.macd_signal()"
   ]
  },
  {
   "cell_type": "code",
   "execution_count": 79,
   "metadata": {},
   "outputs": [],
   "source": [
    "# Bollinger Bands (20, 2)\n",
    "bb = BollingerBands(close=df[\"Close\"], window=5, window_dev=2)\n",
    "df[\"bb_middle\"] = bb.bollinger_mavg()\n",
    "df[\"bb_upper\"] = bb.bollinger_hband()\n",
    "df[\"bb_lower\"] = bb.bollinger_lband()"
   ]
  },
  {
   "cell_type": "code",
   "execution_count": 80,
   "metadata": {},
   "outputs": [],
   "source": [
    "# 8) Flags y binary features\n",
    "df[\"volume_spike\"] = (\n",
    "    df[\"log_vol\"] > df[\"log_vol\"].mean() + 2 * df[\"log_vol\"].std()\n",
    ").astype(int)\n",
    "df[\"price_above_SMA50\"] = (\n",
    "    df[\"Close\"] > SMAIndicator(close=df[\"Close\"], window=50).sma_indicator()\n",
    ").astype(int)\n",
    "df[\"RSI_overbought\"] = (df[\"RSI_5\"] > 70).astype(int)\n",
    "df[\"MACD_above_signal\"] = (df[\"MACD\"] > df[\"MACD_signal\"]).astype(int)"
   ]
  },
  {
   "cell_type": "code",
   "execution_count": 81,
   "metadata": {},
   "outputs": [],
   "source": [
    "# 9) Limpiar filas con NaN generadas por cálculos\n",
    "feature_cols = [\n",
    "    \"log_vol\", \"day_of_week\", \"is_month_end\", \"month\",\n",
    "    \"price_diff\", \"pct_diff\", \"return_daily\", \"return_lag_1\",\n",
    "    \"sma_5\", \"rolling_std_return_5\",\n",
    "    \"RSI_5\", \"MACD\", \"MACD_signal\",\n",
    "    \"bb_middle\", \"bb_upper\", \"bb_lower\",\n",
    "    \"volume_spike\", \"price_above_SMA50\", \"RSI_overbought\", \"MACD_above_signal\"\n",
    "]\n",
    "df_features = df.dropna(subset=feature_cols).copy()"
   ]
  },
  {
   "cell_type": "code",
   "execution_count": 82,
   "metadata": {},
   "outputs": [],
   "source": [
    "# Crear variable objetivo 'target' (1 si Close > Open, 0 si Close <= Open)\n",
    "#df_features['target'] = np.where(df_features['Close'] > df_features['Open'], 1, 0)\n",
    "# Definir el target: Predecir si el precio de SPLV sube o baja (1: sube, 0: baja)\n",
    "df_features[\"target\"] = (df_features[\"Close\"].shift(-1) > df_features[\"Close\"]).astype(int)"
   ]
  },
  {
   "cell_type": "code",
   "execution_count": 83,
   "metadata": {},
   "outputs": [
    {
     "name": "stdout",
     "output_type": "stream",
     "text": [
      "\n",
      "Información del DataFrame:\n",
      "<class 'pandas.core.frame.DataFrame'>\n",
      "Index: 1042 entries, 33 to 1074\n",
      "Data columns (total 28 columns):\n",
      " #   Column                Non-Null Count  Dtype         \n",
      "---  ------                --------------  -----         \n",
      " 0   Date                  1042 non-null   datetime64[ns]\n",
      " 1   Close                 1042 non-null   float64       \n",
      " 2   High                  1042 non-null   float64       \n",
      " 3   Low                   1042 non-null   float64       \n",
      " 4   Open                  1042 non-null   float64       \n",
      " 5   log_vol               1042 non-null   float64       \n",
      " 6   year                  1042 non-null   int32         \n",
      " 7   month                 1042 non-null   int32         \n",
      " 8   day                   1042 non-null   int32         \n",
      " 9   day_of_week           1042 non-null   int32         \n",
      " 10  is_month_end          1042 non-null   int64         \n",
      " 11  price_diff            1042 non-null   float64       \n",
      " 12  pct_diff              1042 non-null   float64       \n",
      " 13  return_daily          1042 non-null   float64       \n",
      " 14  return_lag_1          1042 non-null   float64       \n",
      " 15  sma_5                 1042 non-null   float64       \n",
      " 16  rolling_std_return_5  1042 non-null   float64       \n",
      " 17  RSI_5                 1042 non-null   float64       \n",
      " 18  MACD                  1042 non-null   float64       \n",
      " 19  MACD_signal           1042 non-null   float64       \n",
      " 20  bb_middle             1042 non-null   float64       \n",
      " 21  bb_upper              1042 non-null   float64       \n",
      " 22  bb_lower              1042 non-null   float64       \n",
      " 23  volume_spike          1042 non-null   int64         \n",
      " 24  price_above_SMA50     1042 non-null   int64         \n",
      " 25  RSI_overbought        1042 non-null   int64         \n",
      " 26  MACD_above_signal     1042 non-null   int64         \n",
      " 27  target                1042 non-null   int64         \n",
      "dtypes: datetime64[ns](1), float64(17), int32(4), int64(6)\n",
      "memory usage: 219.8 KB\n",
      "None\n"
     ]
    }
   ],
   "source": [
    "# Información general del DataFrame\n",
    "print(\"\\nInformación del DataFrame:\")\n",
    "print(df_features.info())"
   ]
  },
  {
   "cell_type": "code",
   "execution_count": 84,
   "metadata": {},
   "outputs": [
    {
     "name": "stdout",
     "output_type": "stream",
     "text": [
      "Features saved to ../../data/processed/JNJ_clean.csv\n"
     ]
    }
   ],
   "source": [
    "# 10) Guardar CSV con todas las features\n",
    "output_path = \"../../data/processed/JNJ_clean.csv\"\n",
    "df_features.to_csv(output_path, index=False)\n",
    "print(f\"Features saved to {output_path}\")"
   ]
  }
 ],
 "metadata": {
  "kernelspec": {
   "display_name": "bolsa_ml",
   "language": "python",
   "name": "python3"
  },
  "language_info": {
   "codemirror_mode": {
    "name": "ipython",
    "version": 3
   },
   "file_extension": ".py",
   "mimetype": "text/x-python",
   "name": "python",
   "nbconvert_exporter": "python",
   "pygments_lexer": "ipython3",
   "version": "3.10.13"
  }
 },
 "nbformat": 4,
 "nbformat_minor": 2
}
