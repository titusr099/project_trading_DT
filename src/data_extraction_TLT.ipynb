{
 "cells": [
  {
   "cell_type": "code",
   "execution_count": null,
   "metadata": {},
   "outputs": [
    {
     "name": "stderr",
     "output_type": "stream",
     "text": [
      "[*********************100%***********************]  1 of 1 completed"
     ]
    },
    {
     "name": "stdout",
     "output_type": "stream",
     "text": [
      "Price           Close       High        Low       Open    Volume\n",
      "Ticker            TLT        TLT        TLT        TLT       TLT\n",
      "Date                                                            \n",
      "2010-12-27  63.565655  63.647007  62.575832  62.887693   5285900\n",
      "2010-12-28  62.320736  63.313949  62.116649  63.218709  13972100\n",
      "2010-12-29  63.375168  63.620065  62.225488  62.422771  13115400\n",
      "2010-12-30  63.327553  63.456808  62.864965  63.184694   7029900\n",
      "2010-12-31  64.028198  64.422758  63.565606  63.613225   8516000\n",
      "Filas descargadas: 3596\n",
      "TLT: ✅ Datos guardados en /Users/melaniealvarez/Documents/Octavo semestres/Data Mining/trading/project_trading_DT/data/raw/TLT.csv\n"
     ]
    },
    {
     "name": "stderr",
     "output_type": "stream",
     "text": [
      "\n"
     ]
    }
   ],
   "source": [
    "import yfinance as yf\n",
    "import pandas as pd\n",
    "import os\n",
    "from datetime import datetime, timedelta\n",
    "\n",
    "# Crear carpeta de salida en \"data/raw\"\n",
    "os.makedirs(\"/Users/melaniealvarez/Documents/Octavo semestres/Data Mining/trading/project_trading_DT/data/raw\", exist_ok=True)\n",
    "\n",
    "# Definir ticker y fechas\n",
    "ticker = \"TLT\"\n",
    "start_date = \"2020-12-24\"\n",
    "# Calcular la fecha de ayer\n",
    "end_date = (datetime.now() - timedelta(days=1)).strftime(\"%Y-%m-%d\")\n",
    "\n",
    "try:\n",
    "    # Descargar datos SIN group_by='ticker'\n",
    "    df = yf.download(ticker, start=start_date, end=end_date)\n",
    "    print(df.head())\n",
    "    print(f\"Filas descargadas: {len(df)}\")\n",
    "\n",
    "    \n",
    "    # Verificamos que el DataFrame no esté vacío\n",
    "    if not df.empty:\n",
    "        # Si, por algún motivo, tuviera un MultiIndex en columnas, lo \"aplanamos\":\n",
    "        if isinstance(df.columns, pd.MultiIndex):\n",
    "            df.columns = df.columns.droplevel(1)\n",
    "\n",
    "        # Convertimos el índice 'Date' en una columna normal\n",
    "        df.reset_index(inplace=True)\n",
    "        \n",
    "        # Guardar a CSV\n",
    "        csv_path = f\"/Users/melaniealvarez/Documents/Octavo semestres/Data Mining/trading/project_trading_DT/data/raw/{ticker}.csv\"\n",
    "        df.to_csv(csv_path, index=False)\n",
    "        print(f\"{ticker}: ✅ Datos guardados en {csv_path}\")\n",
    "    else:\n",
    "        print(f\"{ticker}: ⚠️ No se descargaron datos en el rango especificado\")\n",
    "except Exception as e:\n",
    "    print(f\"{ticker}: ❌ Error - {e}\")\n",
    "\n"
   ]
  }
 ],
 "metadata": {
  "kernelspec": {
   "display_name": "base",
   "language": "python",
   "name": "python3"
  },
  "language_info": {
   "codemirror_mode": {
    "name": "ipython",
    "version": 3
   },
   "file_extension": ".py",
   "mimetype": "text/x-python",
   "name": "python",
   "nbconvert_exporter": "python",
   "pygments_lexer": "ipython3",
   "version": "3.12.2"
  }
 },
 "nbformat": 4,
 "nbformat_minor": 2
}
